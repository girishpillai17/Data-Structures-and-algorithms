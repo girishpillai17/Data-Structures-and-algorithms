{
  "nbformat": 4,
  "nbformat_minor": 0,
  "metadata": {
    "colab": {
      "name": "Leetcode_problems.ipynb",
      "provenance": [],
      "collapsed_sections": [],
      "authorship_tag": "ABX9TyN0BAMdGQcMLWuCBNW8S7cM",
      "include_colab_link": true
    },
    "kernelspec": {
      "name": "python3",
      "display_name": "Python 3"
    },
    "language_info": {
      "name": "python"
    }
  },
  "cells": [
    {
      "cell_type": "markdown",
      "metadata": {
        "id": "view-in-github",
        "colab_type": "text"
      },
      "source": [
        "<a href=\"https://colab.research.google.com/github/girishpillai17/Data-Structures-and-algorithms/blob/master/Leetcode_problems.ipynb\" target=\"_parent\"><img src=\"https://colab.research.google.com/assets/colab-badge.svg\" alt=\"Open In Colab\"/></a>"
      ]
    },
    {
      "cell_type": "markdown",
      "metadata": {
        "id": "AK0ZWD1pTPn5"
      },
      "source": [
        "# 1213 - Intersection of Three Sorted Arrays \n",
        "\n",
        "Given three integer arrays arr1, arr2 and arr3 sorted in strictly increasing order, return a sorted array of only the integers that appeared in all three arrays.\n",
        "\n",
        " \n",
        "\n",
        "Example 1:\n",
        "\n",
        "Input: arr1 = [1,2,3,4,5], arr2 = [1,2,5,7,9], arr3 = [1,3,4,5,8]\n",
        "Output: [1,5]\n",
        "Explanation: Only 1 and 5 appeared in the three arrays.\n",
        "\n",
        " \n",
        "\n",
        "Constraints:\n",
        "\n",
        "    1 <= arr1.length, arr2.length, arr3.length <= 1000\n",
        "    1 <= arr1[i], arr2[i], arr3[i] <= 2000"
      ]
    },
    {
      "cell_type": "code",
      "metadata": {
        "colab": {
          "base_uri": "https://localhost:8080/"
        },
        "id": "u0acTK6vTBY4",
        "outputId": "cbde098c-1c71-4e0a-8a09-1c15fbe67350"
      },
      "source": [
        "def arraysIntersection(arr1:list, arr2:list, arr3:list) -> list:\n",
        "  list_dif = [i for i in arr1 if i in arr2 and i in arr3]\n",
        "  return sorted(list_dif)\n",
        "\n",
        "arraysIntersection([4,2,8,9,6,7], [7,2,4,8,5,9,60], [5,6,2,4,8])\n",
        "arraysIntersection([1,2,3,4,5], [1,2,5,7,9],[1,3,4,5,8])"
      ],
      "execution_count": null,
      "outputs": [
        {
          "output_type": "execute_result",
          "data": {
            "text/plain": [
              "[1, 5]"
            ]
          },
          "metadata": {
            "tags": []
          },
          "execution_count": 1
        }
      ]
    },
    {
      "cell_type": "markdown",
      "metadata": {
        "id": "TlbIppgtQqIf"
      },
      "source": [
        "# 1134 - Armstrong Number\n",
        "\n",
        "The k-digit number N is an Armstrong number if and only if the k-th power of each digit sums to N.\n",
        "\n",
        "Given a positive integer N, return true if and only if it is an Armstrong number.\n",
        "\n",
        " \n",
        "\n",
        "## Example 1:\n",
        "\n",
        "    Input: 153\n",
        "    Output: true\n",
        "    Explanation: \n",
        "    153 is a 3-digit number, and 153 = 1^3 + 5^3 + 3^3.\n",
        "\n",
        "## Example 2:\n",
        "\n",
        "    Input: 123\n",
        "    Output: false\n",
        "    Explanation: \n",
        "    123 is a 3-digit number, and 123 != 1^3 + 2^3 + 3^3 = 36.\n",
        "\n",
        " \n",
        "\n",
        "Note:\n",
        "\n",
        "    1 <= N <= 10^8\n"
      ]
    },
    {
      "cell_type": "code",
      "metadata": {
        "colab": {
          "base_uri": "https://localhost:8080/"
        },
        "id": "AGe94u9KRAP_",
        "outputId": "e9c3dff7-bf69-4451-a826-860d6b19fa26"
      },
      "source": [
        "def armstrongNumber(num : int) -> bool:\n",
        "  len_ = len(str(num))\n",
        "  num_copy = num           #store the number in a variable to check if the final result mathches with the orginal number\n",
        "  res = 0\n",
        "  for i in range(len_):\n",
        "    # Find the remainder after dividing with 10 and find the exponent with the length of the given number\n",
        "    temp = (num%10)**len_\n",
        "\n",
        "    # Add the number to the result\n",
        "    res += temp\n",
        "\n",
        "    # Remove the last number to find the remaining numbers and repeat the process.\n",
        "    num = num//10\n",
        "  \n",
        "  if res == num_copy:\n",
        "    return True\n",
        "  else:\n",
        "    return False\n",
        "\n",
        "armstrongNumber(370)"
      ],
      "execution_count": null,
      "outputs": [
        {
          "output_type": "execute_result",
          "data": {
            "text/plain": [
              "True"
            ]
          },
          "metadata": {
            "tags": []
          },
          "execution_count": 5
        }
      ]
    },
    {
      "cell_type": "markdown",
      "metadata": {
        "id": "z2OZb4z-WeVx"
      },
      "source": [
        "#1134:1 - Find Armstrong Number till a given range starting from 100 to infinity"
      ]
    },
    {
      "cell_type": "code",
      "metadata": {
        "colab": {
          "base_uri": "https://localhost:8080/"
        },
        "id": "M53tFjhvRYBy",
        "outputId": "f2ba783e-1c6a-448b-960b-66767e975164"
      },
      "source": [
        "def armstrongNumberTill(range_: int):\n",
        "  for i in range(100,range_):\n",
        "    if armstrongNumber(i) == True:\n",
        "      print(i)\n",
        "    else:\n",
        "      pass\n",
        "\n",
        "armstrongNumberTill(1000)"
      ],
      "execution_count": null,
      "outputs": [
        {
          "output_type": "stream",
          "text": [
            "153\n",
            "370\n",
            "371\n",
            "407\n"
          ],
          "name": "stdout"
        }
      ]
    },
    {
      "cell_type": "markdown",
      "metadata": {
        "id": "jP7J4TSOiVI5"
      },
      "source": [
        "# 1491 - Average Salary Excluding the Minimum and Maximum Salary\n",
        "\n",
        "Given an array of unique integers salary where salary[i] is the salary of the employee i.\n",
        "\n",
        "Return the average salary of employees excluding the minimum and maximum salary.\n",
        "\n",
        " \n",
        "\n",
        "Example 1:\n",
        "\n",
        "Input: salary = [4000,3000,1000,2000]\n",
        "Output: 2500.00000\n",
        "\n",
        "Explanation: Minimum salary and maximum salary are 1000 and 4000 respectively.\n",
        "Average salary excluding minimum and maximum salary is (2000+3000)/2= 2500\n",
        "\n",
        "Example 2:\n",
        "\n",
        "Input: salary = [1000,2000,3000]\n",
        "Output: 2000.00000\n",
        "\n",
        "Explanation: Minimum salary and maximum salary are 1000 and 3000 respectively.\n",
        "Average salary excluding minimum and maximum salary is (2000)/1= 2000\n",
        "\n",
        "    Example 3:\n",
        "\n",
        "    Input: salary = [6000,5000,4000,3000,2000,1000]\n",
        "    Output: 3500.00000\n",
        "\n",
        "    Example 4:\n",
        "\n",
        "    Input: salary = [8000,9000,2000,3000,6000,1000]\n",
        "    Output: 4750.00000\n",
        "\n",
        " \n",
        "\n",
        "Constraints:\n",
        "\n",
        "    3 <= salary.length <= 100\n",
        "    10^3 <= salary[i] <= 10^6\n",
        "    salary[i] is unique.\n",
        "    Answers within 10^-5 of the actual value will be accepted as correct.\n"
      ]
    },
    {
      "cell_type": "code",
      "metadata": {
        "colab": {
          "base_uri": "https://localhost:8080/"
        },
        "id": "9c3TnkysiLVd",
        "outputId": "e18e176b-07e5-4bc9-d046-11b21b8c0953"
      },
      "source": [
        "class Solution:\n",
        "    def average(self, salary: list) -> float:\n",
        "      sorted_salary = sorted(salary)\n",
        "      clipped_salary = sorted_salary[1:-1]\n",
        "      res = 0\n",
        "      for i in clipped_salary:\n",
        "        res += i\n",
        "      avg_salary = res/len(clipped_salary)\n",
        "      return avg_salary\n",
        "\n",
        "x = Solution()\n",
        "x.average([8000,9000,2000,3000,6000,1000])"
      ],
      "execution_count": null,
      "outputs": [
        {
          "output_type": "execute_result",
          "data": {
            "text/plain": [
              "4750.0"
            ]
          },
          "metadata": {
            "tags": []
          },
          "execution_count": 29
        }
      ]
    },
    {
      "cell_type": "markdown",
      "metadata": {
        "id": "rYk71mJE0DOd"
      },
      "source": [
        "# 1122 - Relative Sort Array\n",
        "\n",
        "Given two arrays arr1 and arr2, the elements of arr2 are distinct, and all elements in arr2 are also in arr1.\n",
        "\n",
        "Sort the elements of arr1 such that the relative ordering of items in arr1 are the same as in arr2.  Elements that don't appear in arr2 should be placed at the end of arr1 in ascending order.\n",
        "\n",
        " \n",
        "\n",
        "Example 1:\n",
        "\n",
        "Input: \n",
        "\n",
        "    arr1 = [2,3,1,3,2,4,6,7,9,2,19]\n",
        "    arr2 = [2,1,4,3,9,6]\n",
        "\n",
        "Output: \n",
        "\n",
        "    \n",
        "    [2,2,2,1,4,3,3,9,6,7,19]\n",
        "\n",
        " \n",
        "\n",
        "Constraints:\n",
        "\n",
        "    1 <= arr1.length, arr2.length <= 1000\n",
        "    0 <= arr1[i], arr2[i] <= 1000\n",
        "    All the elements of arr2 are distinct.\n",
        "    Each arr2[i] is in arr1.\n",
        "\n",
        "\n"
      ]
    },
    {
      "cell_type": "markdown",
      "metadata": {
        "id": "LqNQUv4ycFoZ"
      },
      "source": [
        "## Logic 1 : Using array (Brute Force)\n",
        "\n",
        "    let arr1 = [2,3,1,3,2,4,6,7,9,2,19], arr2 = [2,1,4,3,9,6]\n",
        "    list 1 = []\n",
        "    loop through arr2\n",
        "        check if arr2[i] present in arr1\n",
        "        push in list 1 \n",
        "        delete i from arr1 if found\n",
        "    arr1 will contain only numbers that are not in arr2\n",
        "    sort arr1 in ascending order and append it to list."
      ]
    },
    {
      "cell_type": "code",
      "metadata": {
        "colab": {
          "base_uri": "https://localhost:8080/"
        },
        "id": "o9rJGo-ymf7c",
        "outputId": "66e5d382-ede8-49e6-b521-35ff83be33ae"
      },
      "source": [
        "import itertools\n",
        "class Solution:\n",
        "    def relativeSortArray(self, arr1: list, arr2: list) -> list:\n",
        "      res_list = []\n",
        "      for i in arr2:\n",
        "        if i in arr1:\n",
        "          res_list.append([j for j in arr1 if j == i])\n",
        "          arr1 = [j for j in arr1 if j != i]\n",
        "        \n",
        "      res_list = list(itertools.chain(*res_list))\n",
        "      arr1_sorted = sorted(arr1)\n",
        "      \n",
        "      return res_list + arr1_sorted\n",
        "\n",
        "x = Solution()\n",
        "x.relativeSortArray([2,3,1,3,2,4,6,7,9,2,19],[2,1,4,3,9,6])"
      ],
      "execution_count": null,
      "outputs": [
        {
          "output_type": "execute_result",
          "data": {
            "text/plain": [
              "[2, 2, 2, 1, 4, 3, 3, 9, 6, 7, 19]"
            ]
          },
          "metadata": {
            "tags": []
          },
          "execution_count": 56
        }
      ]
    },
    {
      "cell_type": "markdown",
      "metadata": {
        "id": "ECJWD2g_boqk"
      },
      "source": [
        "## Logic 2 : Using dict\n",
        "\n",
        "\n",
        "    use dict to create corresponeding key in arr2 (the order of key in dict is extactly the same order in arr2)\n",
        "    count elements in arr1 as the values in dict\n",
        "    extract key and value from dict\n",
        "    sort the rest nums->List[int] not in dict and append it to ans->List[int]\n"
      ]
    },
    {
      "cell_type": "code",
      "metadata": {
        "colab": {
          "base_uri": "https://localhost:8080/"
        },
        "id": "OCK8Qhmv21aS",
        "outputId": "940f524c-83a5-4f6c-d7d2-50fa0263dbbd"
      },
      "source": [
        "class Solution:\n",
        "    def relativeSortArray(self, arr1, arr2):\n",
        "\n",
        "      dict_ = {}\n",
        "      res, num_not_in_arr2 = [],[]\n",
        "\n",
        "      for i in arr2:\n",
        "        dict_[i] = 0\n",
        "      \n",
        "      #print(dict_)\n",
        "\n",
        "      for val in arr1:\n",
        "        if val not in dict_:\n",
        "          num_not_in_arr2.append(val)\n",
        "        else:\n",
        "          dict_[val] += 1\n",
        "\n",
        "      #print(dict_)\n",
        "\n",
        "      for key, val in dict_.items():\n",
        "        res.extend([key for i in range(val)])\n",
        " \n",
        "      res.extend(sorted(num_not_in_arr2))\n",
        "      \n",
        "      return res\n",
        "\n",
        "x = Solution()\n",
        "x.relativeSortArray([2,3,1,3,2,4,6,7,9,2,19],[2,1,4,3,9,6])\n"
      ],
      "execution_count": null,
      "outputs": [
        {
          "output_type": "stream",
          "text": [
            "{2: 3, 1: 1, 4: 1, 3: 2, 9: 1, 6: 1}\n"
          ],
          "name": "stdout"
        },
        {
          "output_type": "execute_result",
          "data": {
            "text/plain": [
              "[2, 2, 2, 1, 4, 3, 3, 9, 6, 7, 19]"
            ]
          },
          "metadata": {
            "tags": []
          },
          "execution_count": 29
        }
      ]
    },
    {
      "cell_type": "markdown",
      "metadata": {
        "id": "q3wh0il6dsoA"
      },
      "source": [
        "#509 - Fibonacci Number\n",
        "\n",
        "The Fibonacci numbers, commonly denoted F(n) form a sequence, called the Fibonacci sequence, such that each number is the sum of the two preceding ones, starting from 0 and 1. That is,\n",
        "\n",
        "    F(0) = 0, F(1) = 1\n",
        "    F(n) = F(n - 1) + F(n - 2), for n > 1.\n",
        "\n",
        "Given n, calculate F(n).\n",
        "\n",
        "Example 1:\n",
        "\n",
        "    Input: n = 2\n",
        "    Output: 1\n",
        "    Explanation: F(2) = F(1) + F(0) = 1 + 0 = 1.\n",
        "\n",
        "Example 2:\n",
        "\n",
        "    Input: n = 3\n",
        "    Output: 2\n",
        "    Explanation: F(3) = F(2) + F(1) = 1 + 1 = 2.\n",
        "\n",
        "Example 3:\n",
        "\n",
        "    Input: n = 4\n",
        "    Output: 3\n",
        "    Explanation: F(4) = F(3) + F(2) = 2 + 1 = 3.\n",
        "\n",
        "Constraints:\n",
        "\n",
        "    0 <= n <= 30\n"
      ]
    },
    {
      "cell_type": "markdown",
      "metadata": {
        "id": "C1KVwm-BfJ2i"
      },
      "source": [
        "## Logic 1 - Recursion"
      ]
    },
    {
      "cell_type": "code",
      "metadata": {
        "colab": {
          "base_uri": "https://localhost:8080/"
        },
        "id": "-Z-GoJIvebrA",
        "outputId": "67d65bca-faca-4a69-9259-1ac0411ce274"
      },
      "source": [
        "class Solution:\n",
        "    def fib(self, n: int) -> int:\n",
        "        if n == 1 or n == 0:\n",
        "            return n\n",
        "\n",
        "        else:\n",
        "            return (self.fib(n-1) + self.fib(n-2))\n",
        "\n",
        "x = Solution()\n",
        "x.fib(3)"
      ],
      "execution_count": null,
      "outputs": [
        {
          "output_type": "execute_result",
          "data": {
            "text/plain": [
              "2"
            ]
          },
          "metadata": {
            "tags": []
          },
          "execution_count": 33
        }
      ]
    },
    {
      "cell_type": "markdown",
      "metadata": {
        "id": "JgECj42rfWVB"
      },
      "source": [
        "## Logic 2 - Normal"
      ]
    },
    {
      "cell_type": "code",
      "metadata": {
        "colab": {
          "base_uri": "https://localhost:8080/"
        },
        "id": "yavfsjyJehWR",
        "outputId": "c81a1f61-deaa-438f-f135-1abf265496a9"
      },
      "source": [
        "class Solution:\n",
        "    def fib(self, n: int) -> int:\n",
        "      if n == 1 or n == 0:\n",
        "        return n\n",
        "\n",
        "      else:\n",
        "        res = [0,1]\n",
        "        for i in range(2,n):\n",
        "          res.append(res[i-1] + res[i-2])\n",
        "      \n",
        "        return res[n-1] + res[n-2]\n",
        "\n",
        "x = Solution()\n",
        "x.fib(10)"
      ],
      "execution_count": null,
      "outputs": [
        {
          "output_type": "execute_result",
          "data": {
            "text/plain": [
              "55"
            ]
          },
          "metadata": {
            "tags": []
          },
          "execution_count": 55
        }
      ]
    },
    {
      "cell_type": "markdown",
      "metadata": {
        "id": "hfxOwI1bmtBA"
      },
      "source": [
        "# 26 - Remove Duplicates from Sorted Array\n",
        "\n",
        "Given a sorted array nums, remove the duplicates in-place such that each element appears only once and returns the new length.\n",
        "\n",
        "Do not allocate extra space for another array, you must do this by modifying the input array in-place with O(1) extra memory.\n",
        "\n",
        "Clarification:\n",
        "\n",
        "    Confused why the returned value is an integer but your answer is an array?\n",
        "\n",
        "    Note that the input array is passed in by reference, which means a modification to the input array will be known to the caller as well.\n",
        "\n",
        "Internally you can think of this:\n",
        "\n",
        "    nums is passed in by reference. (i.e., without making a copy)\n",
        "    int len = removeDuplicates(nums);\n",
        "\n",
        "    any modification to nums in your function would be known by the caller.\n",
        "    using the length returned by your function, it prints the first len elements.\n",
        "\n",
        "      for (int i = 0; i < len; i++) {\n",
        "          print(nums[i]);\n",
        "      }\n",
        "\n",
        " \n",
        "\n",
        "Example 1:\n",
        "\n",
        "    Input: nums = [1,1,2]\n",
        "    Output: 2, nums = [1,2]\n",
        "    Explanation: Your function should return length = 2, with the first two elements of nums \n",
        "    being 1 and 2 respectively. It doesn't matter what you leave beyond the returned length.\n",
        "\n",
        "Example 2:\n",
        "\n",
        "    Input: nums = [0,0,1,1,1,2,2,3,3,4]\n",
        "    Output: 5, nums = [0,1,2,3,4]\n",
        "    Explanation: Your function should return length = 5, with the first five elements of nums \n",
        "    being modified to 0, 1, 2, 3, and 4 respectively. \n",
        "    It doesn't matter what values are set beyond the returned length.\n",
        "\n",
        " \n",
        "\n",
        "Constraints:\n",
        "\n",
        "    0 <= nums.length <= 3 * 104\n",
        "    -104 <= nums[i] <= 104\n",
        "    nums is sorted in ascending order.\n",
        "\n"
      ]
    },
    {
      "cell_type": "code",
      "metadata": {
        "colab": {
          "base_uri": "https://localhost:8080/"
        },
        "id": "YTRgqonvigu6",
        "outputId": "7b1d6172-4f78-4228-f346-8c16ed454330"
      },
      "source": [
        "class Solution:\n",
        "    def removeDuplicates(self, nums: list) -> int:\n",
        "\n",
        "      length = len(nums)\n",
        "        \n",
        "      # If list is empty or has got just 1 element, no need to do anything, just return the same length\n",
        "      if length == 0 or length == 1:\n",
        "        return(length)\n",
        "\n",
        "\n",
        "      nums.extend([0])\n",
        "      \n",
        "      temp = []\n",
        "      for i in range(0,(len(nums)-1)):\n",
        "        if nums[i] != nums[i+1]:\n",
        "          temp.append(nums[i])          \n",
        "\n",
        "      print(len(temp))\n",
        "      return temp \n",
        "      \n",
        "\n",
        "x = Solution()\n",
        "x.removeDuplicates([0,0,1,1,1,2,2,3,3,4])\n"
      ],
      "execution_count": null,
      "outputs": [
        {
          "output_type": "stream",
          "text": [
            "5\n"
          ],
          "name": "stdout"
        },
        {
          "output_type": "execute_result",
          "data": {
            "text/plain": [
              "[0, 1, 2, 3, 4]"
            ]
          },
          "metadata": {
            "tags": []
          },
          "execution_count": 102
        }
      ]
    },
    {
      "cell_type": "markdown",
      "metadata": {
        "id": "QUk-fuRmCzV5"
      },
      "source": [
        "# 1694 - Reformat Phone Number\n",
        "\n",
        "You are given a phone number as a string number. number consists of digits, spaces ' ', and/or dashes '-'.\n",
        "\n",
        "You would like to reformat the phone number in a certain manner. Firstly, remove all spaces and dashes. Then, group the digits from left to right into blocks of length 3 until there are 4 or fewer digits. The final digits are then grouped as follows:\n",
        "\n",
        "    2 digits: A single block of length 2.\n",
        "    3 digits: A single block of length 3.\n",
        "    4 digits: Two blocks of length 2 each.\n",
        "\n",
        "The blocks are then joined by dashes. Notice that the reformatting process should never produce any blocks of length 1 and produce at most two blocks of length 2.\n",
        "\n",
        "Return the phone number after formatting.\n",
        "\n",
        "\n",
        "Example 1:\n",
        "\n",
        "    Input: number = \"1-23-45 6\"\n",
        "    Output: \"123-456\"\n",
        "    Explanation: The digits are \"123456\".\n",
        "    Step 1: There are more than 4 digits, so group the next 3 digits. The 1st block is \"123\".\n",
        "    Step 2: There are 3 digits remaining, so put them in a single block of length 3. The 2nd block is \"456\".\n",
        "    Joining the blocks gives \"123-456\".\n",
        "\n",
        "Example 2:\n",
        "\n",
        "    Input: number = \"123 4-567\"\n",
        "    Output: \"123-45-67\"\n",
        "    Explanation: The digits are \"1234567\".\n",
        "    Step 1: There are more than 4 digits, so group the next 3 digits. The 1st block is \"123\".\n",
        "    Step 2: There are 4 digits left, so split them into two blocks of length 2. The blocks are \"45\" and \"67\".\n",
        "    Joining the blocks gives \"123-45-67\".\n",
        "\n",
        "Example 3:\n",
        "\n",
        "    Input: number = \"123 4-5678\"\n",
        "    Output: \"123-456-78\"\n",
        "    Explanation: The digits are \"12345678\".\n",
        "    Step 1: The 1st block is \"123\".\n",
        "    Step 2: The 2nd block is \"456\".\n",
        "    Step 3: There are 2 digits left, so put them in a single block of length 2. The 3rd block is \"78\".\n",
        "    Joining the blocks gives \"123-456-78\".\n",
        "\n",
        "Example 4:\n",
        "\n",
        "    Input: number = \"12\"\n",
        "    Output: \"12\"\n",
        "\n",
        "Example 5:\n",
        "\n",
        "    Input: number = \"--17-5 229 35-39475 \"\n",
        "    Output: \"175-229-353-94-75\"\n",
        "\n",
        " \n",
        "\n",
        "Constraints:\n",
        "\n",
        "    2 <= number.length <= 100\n",
        "    number consists of digits and the characters '-' and ' '.\n",
        "    There are at least two digits in number.\n",
        "\n"
      ]
    },
    {
      "cell_type": "markdown",
      "metadata": {
        "id": "VpsfJgjSc3cA"
      },
      "source": [
        "## Logic\n",
        "\n",
        "    - remove bad characters (\" \", \"-\") and replace with empty charcter or replace using regex\n",
        "    - initiate a while loop which checks if the length of the number_string in greate than 0\n",
        "          initialize an empty array -> res = []\n",
        "          while lenth_of_number > 0\n",
        "            if lenth_of_number is equal to 4, then\n",
        "               - slice the number into 2 equal parts and append to res\n",
        "               - reinitialize the number to empty characters\n",
        "\n",
        "            else if lenth_of_number is greate than 4, then\n",
        "               - make a temp variable and add first 3 digits to the temp variable\n",
        "               - append the temp variable to array\n",
        "               - remove the first 3 digits from the number_string so that we get the remaining numbers with new length\n",
        "\n",
        "            else if the lenth_of_number is less than 4, then\n",
        "              - append the number to the aaray\n",
        "              - reinitialize the number to empty characters\n",
        "\n",
        "          at the end join the elements of res array with \"-\" "
      ]
    },
    {
      "cell_type": "code",
      "metadata": {
        "id": "CRYypWk1v_v_",
        "colab": {
          "base_uri": "https://localhost:8080/",
          "height": 36
        },
        "outputId": "95d6b24c-f6df-4ec7-ac9c-30277515b9aa"
      },
      "source": [
        "class Solution:\n",
        "  def reformatNumber(self, number: str) -> str:\n",
        "\n",
        "    bad_char = [\"-\", \" \"]\n",
        "\n",
        "    for char in bad_char:\n",
        "      number = number.replace(char, '')\n",
        "\n",
        "    res = []\n",
        "    while len(number) > 0:\n",
        "      if len(number) == 4:\n",
        "        res.append(number[:2])\n",
        "        res.append(number[2:])\n",
        "        number = \"\"\n",
        "\n",
        "      elif len(number) > 4:\n",
        "        st = number[:3]\n",
        "        res.append(st)\n",
        "        number = number[3:]\n",
        "\n",
        "      else:\n",
        "        res.append(number)\n",
        "        number = \"\"\n",
        " \n",
        "    return \"-\".join(res)\n",
        "\n",
        "x = Solution()\n",
        "x.reformatNumber(\"1-234-5-6-7\")"
      ],
      "execution_count": null,
      "outputs": [
        {
          "output_type": "execute_result",
          "data": {
            "application/vnd.google.colaboratory.intrinsic+json": {
              "type": "string"
            },
            "text/plain": [
              "'123-45-67'"
            ]
          },
          "metadata": {
            "tags": []
          },
          "execution_count": 26
        }
      ]
    },
    {
      "cell_type": "markdown",
      "metadata": {
        "id": "YlbM_rVX9gGg"
      },
      "source": [
        "# 136 - Single Number\n",
        "\n",
        "Given a non-empty array of integers nums, every element appears twice except for one. Find that single one.\n",
        "\n",
        "Follow up: Could you implement a solution with a linear runtime complexity and without using extra memory?\n",
        "\n",
        "Example 1:\n",
        "\n",
        "    Input: nums = [2,2,1]\n",
        "    Output: 1\n",
        "\n",
        "Example 2:\n",
        "\n",
        "    Input: nums = [4,1,2,1,2]\n",
        "    Output: 4\n",
        "\n",
        "Example 3:\n",
        "\n",
        "    Input: nums = [1]\n",
        "    Output: 1\n",
        "\n",
        "\n",
        "Constraints:\n",
        "\n",
        "    1 <= nums.length <= 3 * 104\n",
        "    -3 * 104 <= nums[i] <= 3 * 104\n",
        "    Each element in the array appears twice except for one element which appears only once.\n",
        "\n"
      ]
    },
    {
      "cell_type": "markdown",
      "metadata": {
        "id": "-UVmP5Dx-Vho"
      },
      "source": [
        "## Logic 1 - Using temp array\n",
        "\n",
        "    - iterate over given array\n",
        "      - if element is not present in new array:\n",
        "          then append the element\n",
        "      \n",
        "      - else:\n",
        "          remove if the element in repeated."
      ]
    },
    {
      "cell_type": "code",
      "metadata": {
        "id": "hg2_0t9IP7i5",
        "colab": {
          "base_uri": "https://localhost:8080/"
        },
        "outputId": "7fc8ae77-aaf5-454f-da59-518248ab7d59"
      },
      "source": [
        "class Solution:\n",
        "    def singleNumber(self, nums: list) -> int:\n",
        "      res = []\n",
        "\n",
        "      for i in nums:\n",
        "        if i not in res:\n",
        "          res.append(i)\n",
        "        else:\n",
        "          res.remove(i)\n",
        "\n",
        "      return res[0]\n",
        "\n",
        "x = Solution()\n",
        "x.singleNumber([2,2,1])"
      ],
      "execution_count": null,
      "outputs": [
        {
          "output_type": "execute_result",
          "data": {
            "text/plain": [
              "1"
            ]
          },
          "metadata": {
            "tags": []
          },
          "execution_count": 13
        }
      ]
    },
    {
      "cell_type": "markdown",
      "metadata": {
        "id": "WBRo7AOxAPRQ"
      },
      "source": [
        "## Logic 2 - Using Hash map\n",
        "\n",
        "\n",
        "    -Iterate through all elements in nums and set up key/value pair.\n",
        "    -Return the element which appeared only once.\n"
      ]
    },
    {
      "cell_type": "code",
      "metadata": {
        "colab": {
          "base_uri": "https://localhost:8080/"
        },
        "id": "C9ZOyDBzB1tm",
        "outputId": "bcdda5e0-6767-456b-dad9-c4540779e433"
      },
      "source": [
        "class Solution:\n",
        "    def singleNumber(self, nums: list) -> int:\n",
        "      dict = {}\n",
        "\n",
        "      for i in set(nums):\n",
        "        dict[i] = 0\n",
        "\n",
        "      for i in nums:\n",
        "        dict[i] += 1\n",
        "\n",
        "      for key in dict:\n",
        "        if dict[key] == 1:\n",
        "          return key\n",
        "\n",
        "x = Solution()\n",
        "x.singleNumber([4,1,2,1,2])"
      ],
      "execution_count": null,
      "outputs": [
        {
          "output_type": "execute_result",
          "data": {
            "text/plain": [
              "4"
            ]
          },
          "metadata": {
            "tags": []
          },
          "execution_count": 58
        }
      ]
    },
    {
      "cell_type": "code",
      "metadata": {
        "colab": {
          "base_uri": "https://localhost:8080/"
        },
        "id": "fFeSm5zxFwwc",
        "outputId": "12e08a80-2445-455e-baa8-8f9c9b19ed5b"
      },
      "source": [
        "class Solution:\n",
        "    def singleNumber(self, nums: list) -> int:\n",
        "\n",
        "      res = 0\n",
        "      for i in nums:\n",
        "          res ^= i\n",
        "      return res\n",
        "\n",
        "x = Solution()\n",
        "x.singleNumber([4,4,6,6,7,7,8,8,2,2,1])"
      ],
      "execution_count": null,
      "outputs": [
        {
          "output_type": "execute_result",
          "data": {
            "text/plain": [
              "1"
            ]
          },
          "metadata": {
            "tags": []
          },
          "execution_count": 46
        }
      ]
    },
    {
      "cell_type": "markdown",
      "metadata": {
        "id": "K9my2kVWvXMq"
      },
      "source": [
        "# 455 - Assign Cookies\n",
        "\n",
        "Assume you are an awesome parent and want to give your children some cookies. But, you should give each child at most one cookie.\n",
        "\n",
        "Each child i has a greed factor g[i], which is the minimum size of a cookie that the child will be content with; and each cookie j has a size s[j]. If s[j] >= g[i], we can assign the cookie j to the child i, and the child i will be content. Your goal is to maximize the number of your content children and output the maximum number.\n",
        "\n",
        "\n",
        "Example 1:\n",
        "\n",
        "    Input: g = [1,2,3], s = [1,1]\n",
        "    Output: 1\n",
        "    Explanation: You have 3 children and 2 cookies. The greed factors of 3 children are 1, 2, 3. \n",
        "    And even though you have 2 cookies, since their size is both 1, you could only make the child whose greed factor is 1 content.\n",
        "    You need to output 1.\n",
        "\n",
        "Example 2:\n",
        "\n",
        "    Input: g = [1,2], s = [1,2,3]\n",
        "    Output: 2\n",
        "    Explanation: You have 2 children and 3 cookies. The greed factors of 2 children are 1, 2. \n",
        "    You have 3 cookies and their sizes are big enough to gratify all of the children, \n",
        "    You need to output 2.\n",
        "\n",
        " \n",
        "\n",
        "Constraints:\n",
        "\n",
        "    1 <= g.length <= 3 * 104\n",
        "    0 <= s.length <= 3 * 104\n",
        "    1 <= g[i], s[j] <= 231 - 1\n",
        "\n"
      ]
    },
    {
      "cell_type": "markdown",
      "metadata": {
        "id": "0BA4t_efAe9z"
      },
      "source": [
        "## Logic 1 - Brute force"
      ]
    },
    {
      "cell_type": "code",
      "metadata": {
        "id": "uRxK4PvoIRbn",
        "colab": {
          "base_uri": "https://localhost:8080/"
        },
        "outputId": "51d73e48-f366-423a-f4c8-f180e87490cc"
      },
      "source": [
        "class Solution:\n",
        "    def findContentChildren(self, g: list, s: list) -> int:\n",
        "      g.sort()\n",
        "      s.sort()\n",
        "      res = []\n",
        "      for i in g:\n",
        "        for j in s:\n",
        "          if j == i or j >= i:\n",
        "            res.append(j)\n",
        "            s.remove(j)\n",
        "            break\n",
        "      \n",
        "      return len(res)\n",
        "\n",
        "x = Solution()\n",
        "x.findContentChildren([1,2], [1,2,3])"
      ],
      "execution_count": null,
      "outputs": [
        {
          "output_type": "execute_result",
          "data": {
            "text/plain": [
              "2"
            ]
          },
          "metadata": {
            "tags": []
          },
          "execution_count": 9
        }
      ]
    },
    {
      "cell_type": "markdown",
      "metadata": {
        "id": "O5XV0Zs2Aihm"
      },
      "source": [
        "## Logic 2 \n",
        "\n",
        "\n",
        "    First sort the arrays\n",
        "    find the length of the array\n",
        "    initiliaze i,j,ans = 0\n",
        "    While i and j is less than length of g and length of s\n",
        "      -  we check if g[i] is less than or equal to s[j]\n",
        "      -  if we find the condition to be true, we increment both i,j and the ans\n",
        "      -  else we'll only increment j\n",
        "      -  If we find a cookie(s[j]) that satisfied the child(g[i]) then we move both the child and cookie and add 1 to the count of ans (res), else only move the cookie\n",
        "      - As the array is sorted there is no scope that there might be a case where s[i] ahead will be less than g[i] somewhere behind\n",
        "\n"
      ]
    },
    {
      "cell_type": "code",
      "metadata": {
        "colab": {
          "base_uri": "https://localhost:8080/"
        },
        "id": "nHXiMx_u0MWX",
        "outputId": "4436f8aa-a2ab-4390-99ef-0b321ea45339"
      },
      "source": [
        "class Solution:\n",
        "    def findContentChildren(self, g: list, s: list) -> int:\n",
        "      g.sort()\n",
        "      s.sort()\n",
        "      lg = len(g)\n",
        "      ls = len(s)\n",
        "      i = 0\n",
        "      j = 0\n",
        "      ans = 0\n",
        "\n",
        "      while i < lg and j < ls:\n",
        "        if g[i] <= s[j]:\n",
        "          ans += 1\n",
        "          i += 1\n",
        "          j += 1\n",
        "        else:\n",
        "          j += 1\n",
        "\n",
        "      return ans\n",
        "\n",
        "x = Solution()\n",
        "x.findContentChildren([1,2], [1,2,3])"
      ],
      "execution_count": null,
      "outputs": [
        {
          "output_type": "execute_result",
          "data": {
            "text/plain": [
              "2"
            ]
          },
          "metadata": {
            "tags": []
          },
          "execution_count": 12
        }
      ]
    },
    {
      "cell_type": "markdown",
      "metadata": {
        "id": "a2XFZgK4uKNi"
      },
      "source": [
        "# 1108 - Defanging an IP Address\n",
        "Easy\n",
        "\n",
        "Given a valid (IPv4) IP address, return a defanged version of that IP address.\n",
        "\n",
        "A defanged IP address replaces every period \".\" with \"[.]\".\n",
        "\n",
        " \n",
        "\n",
        "    Example 1:\n",
        "\n",
        "    Input: address = \"1.1.1.1\"\n",
        "    Output: \"1[.]1[.]1[.]1\"\n",
        "\n",
        "    Example 2:\n",
        "\n",
        "    Input: address = \"255.100.50.0\"\n",
        "    Output: \"255[.]100[.]50[.]0\"\n",
        "\n",
        " \n",
        "\n",
        "Constraints:\n",
        "\n",
        "    The given address is a valid IPv4 address.\n"
      ]
    },
    {
      "cell_type": "code",
      "metadata": {
        "id": "AvyDgN_h_5VL",
        "colab": {
          "base_uri": "https://localhost:8080/",
          "height": 36
        },
        "outputId": "5caa6170-76d6-41a3-9e61-9f1ef4e8e2a6"
      },
      "source": [
        "class Solution:\n",
        "    def defangIPaddr(self, address: str) -> str:\n",
        "      x = address.replace(\".\", \"[.]\")\n",
        "      return x\n",
        "\n",
        "\n",
        "x = Solution()\n",
        "x.defangIPaddr(\"255.100.50.0\")"
      ],
      "execution_count": null,
      "outputs": [
        {
          "output_type": "execute_result",
          "data": {
            "application/vnd.google.colaboratory.intrinsic+json": {
              "type": "string"
            },
            "text/plain": [
              "'255[.]100[.]50[.]0'"
            ]
          },
          "metadata": {
            "tags": []
          },
          "execution_count": 2
        }
      ]
    },
    {
      "cell_type": "code",
      "metadata": {
        "colab": {
          "base_uri": "https://localhost:8080/",
          "height": 36
        },
        "id": "lkV7cgihufOi",
        "outputId": "1e5350b5-a131-4730-bf64-05dad2be8df9"
      },
      "source": [
        "class Solution:\n",
        "    def defangIPaddr(self, address: str) -> str:\n",
        "      ans = \"\"\n",
        "      for i in address:\n",
        "        if i != \".\":\n",
        "          ans += i\n",
        "        else:\n",
        "          ans += \"[.]\"\n",
        "      \n",
        "      return ans\n",
        "\n",
        "x = Solution()\n",
        "x.defangIPaddr(\"255.100.50.0\")"
      ],
      "execution_count": null,
      "outputs": [
        {
          "output_type": "execute_result",
          "data": {
            "application/vnd.google.colaboratory.intrinsic+json": {
              "type": "string"
            },
            "text/plain": [
              "'255[.]100[.]50[.]0'"
            ]
          },
          "metadata": {
            "tags": []
          },
          "execution_count": 4
        }
      ]
    },
    {
      "cell_type": "markdown",
      "metadata": {
        "id": "zpRIzye93u_5"
      },
      "source": [
        "# 1389 - Create Target Array in the Given Order\n",
        "Easy\n",
        "\n",
        "Given two arrays of integers nums and index. Your task is to create target array under the following rules:\n",
        "\n",
        "    Initially target array is empty.\n",
        "    From left to right read nums[i] and index[i], insert at index index[i] the value nums[i] in target array.\n",
        "    Repeat the previous step until there are no elements to read in nums and index.\n",
        "\n",
        "Return the target array.\n",
        "\n",
        "It is guaranteed that the insertion operations will be valid.\n",
        "\n",
        " \n",
        "\n",
        "    Example 1:\n",
        "\n",
        "    Input: nums = [0,1,2,3,4], index = [0,1,2,2,1]\n",
        "    Output: [0,4,1,3,2]\n",
        "    Explanation:\n",
        "    nums       index     target\n",
        "    0            0        [0]\n",
        "    1            1        [0,1]\n",
        "    2            2        [0,1,2]\n",
        "    3            2        [0,1,3,2]\n",
        "    4            1        [0,4,1,3,2]\n",
        "\n",
        "    Example 2:\n",
        "\n",
        "    Input: nums = [1,2,3,4,0], index = [0,1,2,3,0]\n",
        "    Output: [0,1,2,3,4]\n",
        "    Explanation:\n",
        "    nums       index     target\n",
        "    1            0        [1]\n",
        "    2            1        [1,2]\n",
        "    3            2        [1,2,3]\n",
        "    4            3        [1,2,3,4]\n",
        "    0            0        [0,1,2,3,4]\n",
        "\n",
        "    Example 3:\n",
        "\n",
        "    Input: nums = [1], index = [0]\n",
        "    Output: [1]\n",
        "\n",
        " \n",
        "\n",
        "Constraints:\n",
        "\n",
        "    1 <= nums.length, index.length <= 100\n",
        "    nums.length == index.length\n",
        "    0 <= nums[i] <= 100\n",
        "    0 <= index[i] <= i\n",
        "\n"
      ]
    },
    {
      "cell_type": "code",
      "metadata": {
        "colab": {
          "base_uri": "https://localhost:8080/"
        },
        "id": "OkfimFcMvYEq",
        "outputId": "16837a05-4b0b-4601-c35c-61a8020bf913"
      },
      "source": [
        "class Solution:\n",
        "    def createTargetArray(self, nums: list, index: list) -> list:\n",
        "      res = []\n",
        "      for i in range(len(nums)):\n",
        "        res.insert(index[i], nums[i])\n",
        "\n",
        "      return res\n",
        "\n",
        "x = Solution()\n",
        "x.createTargetArray([0,1,2,3,4], [0,1,2,2,1])"
      ],
      "execution_count": null,
      "outputs": [
        {
          "output_type": "execute_result",
          "data": {
            "text/plain": [
              "[0, 4, 1, 3, 2]"
            ]
          },
          "metadata": {
            "tags": []
          },
          "execution_count": 11
        }
      ]
    },
    {
      "cell_type": "markdown",
      "metadata": {
        "id": "m-yVrh1F-1Rt"
      },
      "source": [
        "# 1446 - Consecutive Characters\n",
        "Easy\n",
        "\n",
        "Given a string s, the power of the string is the maximum length of a non-empty substring that contains only one unique character.\n",
        "\n",
        "Return the power of the string.\n",
        "\n",
        " \n",
        "\n",
        "Example 1:\n",
        "\n",
        "    Input: s = \"leetcode\"\n",
        "    Output: 2\n",
        "    Explanation: The substring \"ee\" is of length 2 with the character 'e' only.\n",
        "\n",
        "Example 2:\n",
        "\n",
        "    Input: s = \"abbcccddddeeeeedcba\"\n",
        "    Output: 5\n",
        "    Explanation: The substring \"eeeee\" is of length 5 with the character 'e' only.\n",
        "\n",
        "Example 3:\n",
        "\n",
        "    Input: s = \"triplepillooooow\"\n",
        "    Output: 5\n",
        "\n",
        "Example 4:\n",
        "\n",
        "    Input: s = \"hooraaaaaaaaaaay\"\n",
        "    Output: 11\n",
        "\n",
        "Example 5:\n",
        "\n",
        "    Input: s = \"tourist\"\n",
        "    Output: 1\n",
        "\n",
        " \n",
        "\n",
        "Constraints:\n",
        "\n",
        "    1 <= s.length <= 500\n",
        "    s contains only lowercase English letters.\n",
        "\n"
      ]
    },
    {
      "cell_type": "code",
      "metadata": {
        "colab": {
          "base_uri": "https://localhost:8080/"
        },
        "id": "ORbC5Nqb4Prn",
        "outputId": "d95d0fc5-9607-4821-a5bb-e24d012bb6df"
      },
      "source": [
        "class Solution:\n",
        "    def maxPower(self, s: str) -> int:\n",
        "      s = s+\" \"                            # Add an extra space to avoid out of index issue\n",
        "      pow = []\n",
        "      counter = 1\n",
        "      for i in range(len(s)-1):\n",
        "        if s[i+1] == s[i]:\n",
        "          counter += 1\n",
        "        else :\n",
        "          pow.append(counter)\n",
        "          counter = 1\n",
        "      \n",
        "      return max(pow)\n",
        "\n",
        "x = Solution()\n",
        "x.maxPower(\"leetcode\")\n",
        "       \n"
      ],
      "execution_count": null,
      "outputs": [
        {
          "output_type": "execute_result",
          "data": {
            "text/plain": [
              "2"
            ]
          },
          "metadata": {
            "tags": []
          },
          "execution_count": 33
        }
      ]
    },
    {
      "cell_type": "markdown",
      "metadata": {
        "id": "fCrjOGYB93_u"
      },
      "source": [
        "# 461 - Hamming Distance\n",
        "Easy\n",
        "\n",
        "The Hamming distance between two integers is the number of positions at which the corresponding bits are different.\n",
        "\n",
        "Given two integers x and y, return the Hamming distance between them.\n",
        "\n",
        " \n",
        "\n",
        "Example 1:\n",
        "\n",
        "    Input: x = 1, y = 4\n",
        "    Output: 2\n",
        "    Explanation:\n",
        "    1   (0 0 0 1)\n",
        "    4   (0 1 0 0)\n",
        "          ↑   ↑\n",
        "    The above arrows point to positions where the corresponding bits are different.\n",
        "\n",
        "Example 2:\n",
        "\n",
        "Input: x = 3, y = 1\n",
        "Output: 1\n",
        "\n",
        " \n",
        "\n",
        "Constraints:\n",
        "\n",
        "    0 <= x, y <= 2^31 - 1\n",
        "\n"
      ]
    },
    {
      "cell_type": "code",
      "metadata": {
        "colab": {
          "base_uri": "https://localhost:8080/"
        },
        "id": "_J0BV0oSA-FQ",
        "outputId": "15dd31ed-b9cd-48bb-ad7e-52f92635034d"
      },
      "source": [
        "class Solution:\n",
        "    def hammingDistance(self, x: int, y: int) -> int:\n",
        "      binx = '{:032b}'.format(x)\n",
        "      biny = '{:032b}'.format(y)\n",
        "      \n",
        "      counter = 0\n",
        "      for n in range(len(binx)):\n",
        "        if binx[n] != biny[n]:\n",
        "          counter += 1\n",
        "      \n",
        "      return counter\n",
        "\n",
        "x = Solution()\n",
        "x.hammingDistance(680142203,1111953568)\n"
      ],
      "execution_count": null,
      "outputs": [
        {
          "output_type": "execute_result",
          "data": {
            "text/plain": [
              "19"
            ]
          },
          "metadata": {
            "tags": []
          },
          "execution_count": 14
        }
      ]
    },
    {
      "cell_type": "markdown",
      "metadata": {
        "id": "yTl-r9Ykon4G"
      },
      "source": [
        "\n",
        "# 1800 - Maximum Ascending Subarray Sum\n",
        "Given an array of positive integers nums, return the maximum possible sum of an ascending subarray in nums.\n",
        "\n",
        "A subarray is defined as a contiguous sequence of numbers in an array.\n",
        "\n",
        "A subarray [numsl, numsl+1, ..., numsr-1, numsr] is ascending if for all i where l <= i < r, numsi < numsi+1. Note that a subarray of size 1 is ascending.\n",
        "\n",
        " \n",
        "\n",
        "Example 1:\n",
        "\n",
        "    Input: nums = [10,20,30,5,10,50]\n",
        "    Output: 65\n",
        "    Explanation: [5,10,50] is the ascending subarray with the maximum sum of 65.\n",
        "\n",
        "Example 2:\n",
        "\n",
        "    Input: nums = [10,20,30,40,50]\n",
        "    Output: 150\n",
        "    Explanation: [10,20,30,40,50] is the ascending subarray with the maximum sum of 150.\n",
        "\n",
        "Example 3:\n",
        "\n",
        "    Input: nums = [12,17,15,13,10,11,12]\n",
        "    Output: 33\n",
        "    Explanation: [10,11,12] is the ascending subarray with the maximum sum of 33.\n",
        "\n",
        "Example 4:\n",
        "\n",
        "    Input: nums = [100,10,1]\n",
        "    Output: 100\n",
        "\n",
        " \n",
        "\n",
        "Constraints:\n",
        "\n",
        "    1 <= nums.length <= 100\n",
        "    1 <= nums[i] <= 100\n",
        "\n",
        "\n"
      ]
    },
    {
      "cell_type": "code",
      "metadata": {
        "id": "gjcAdFDgBYzN",
        "colab": {
          "base_uri": "https://localhost:8080/"
        },
        "outputId": "3fd015f9-c7e1-4e70-c52f-e6b952fc6adb"
      },
      "source": [
        "class Solution:\n",
        "    def maxAscendingSum(self, nums: list) -> int:                        \n",
        "      max_ = []\n",
        "      count = nums[0]\n",
        "      for i in range(1,len(nums)):\n",
        "        if nums[i] > nums[i-1]:\n",
        "          count += nums[i]\n",
        "        else:\n",
        "          max_.append(count)\n",
        "          count = nums[i]\n",
        "      max_.append(count)\n",
        "      \n",
        "      print(max_)\n",
        "      return max(max_)\n",
        "\n",
        "x = Solution()\n",
        "x.maxAscendingSum([12,17,15,13,10,11,12,10,11,9])"
      ],
      "execution_count": null,
      "outputs": [
        {
          "output_type": "stream",
          "text": [
            "[29, 15, 13, 33, 21, 9]\n"
          ],
          "name": "stdout"
        },
        {
          "output_type": "execute_result",
          "data": {
            "text/plain": [
              "33"
            ]
          },
          "metadata": {
            "tags": []
          },
          "execution_count": 33
        }
      ]
    },
    {
      "cell_type": "markdown",
      "metadata": {
        "id": "UgSs-igpcyV3"
      },
      "source": [
        "# 724 - Find Pivot Index\n",
        "Easy\n",
        "\n",
        "Given an array of integers nums, calculate the pivot index of this array.\n",
        "\n",
        "The pivot index is the index where the sum of all the numbers strictly to the left of the index is equal to the sum of all the numbers strictly to the index's right.\n",
        "\n",
        "If the index is on the left edge of the array, then the left sum is 0 because there are no elements to the left. This also applies to the right edge of the array.\n",
        "\n",
        "Return the leftmost pivot index. If no such index exists, return -1.\n",
        "\n",
        " \n",
        "\n",
        "Example 1:\n",
        "\n",
        "    Input: nums = [1,7,3,6,5,6]\n",
        "    Output: 3\n",
        "    Explanation:\n",
        "    The pivot index is 3.\n",
        "    Left sum = nums[0] + nums[1] + nums[2] = 1 + 7 + 3 = 11\n",
        "    Right sum = nums[4] + nums[5] = 5 + 6 = 11\n",
        "\n",
        "Example 2:\n",
        "\n",
        "    Input: nums = [1,2,3]\n",
        "    Output: -1\n",
        "    Explanation:\n",
        "    There is no index that satisfies the conditions in the problem statement.\n",
        "\n",
        "Example 3:\n",
        "\n",
        "    Input: nums = [2,1,-1]\n",
        "    Output: 0\n",
        "    Explanation:\n",
        "    The pivot index is 0.\n",
        "    Left sum = 0 (no elements to the left of index 0)\n",
        "    Right sum = nums[1] + nums[2] = 1 + -1 = 0\n",
        "\n",
        " \n",
        "\n",
        "Constraints:\n",
        "\n",
        "    1 <= nums.length <= 104\n",
        "    -1000 <= nums[i] <= 1000\n",
        "\n"
      ]
    },
    {
      "cell_type": "code",
      "metadata": {
        "id": "lQY86jrNtiPL",
        "colab": {
          "base_uri": "https://localhost:8080/"
        },
        "outputId": "2bcc766c-2616-42b7-ff1a-9de61de8b59c"
      },
      "source": [
        "import math\n",
        "class Solution:\n",
        "    def pivotIndex(self, nums: list) -> int:\n",
        "\n",
        "      # Initial checks.\n",
        "      if not nums:\n",
        "        return -1\n",
        "      elif len(nums) == 1:\n",
        "        return 0\n",
        "\n",
        "      leftSum = 0\n",
        "      rightSum = sum(nums)\n",
        "\n",
        "      # Iterate to check for pivot.\n",
        "      for index, num in enumerate(nums):\n",
        "        rightSum -= num\n",
        "        if leftSum == rightSum:\n",
        "          return index\n",
        "        leftSum += num\n",
        "\n",
        "      # No pivot found.\n",
        "      return -1\n",
        "\n",
        "x = Solution()\n",
        "x.pivotIndex([1,7,3,6,5,6])"
      ],
      "execution_count": null,
      "outputs": [
        {
          "output_type": "execute_result",
          "data": {
            "text/plain": [
              "3"
            ]
          },
          "metadata": {
            "tags": []
          },
          "execution_count": 59
        }
      ]
    },
    {
      "cell_type": "markdown",
      "metadata": {
        "id": "tWLd-lpArGDc"
      },
      "source": [
        "# 1598 - Crawler Log Folder\n",
        "Easy\n",
        "\n",
        "The Leetcode file system keeps a log each time some user performs a change folder operation.\n",
        "\n",
        "The operations are described below:\n",
        "\n",
        "    \"../\" : Move to the parent folder of the current folder. (If you are already in the main folder, remain in the same folder).\n",
        "    \"./\" : Remain in the same folder.\n",
        "    \"x/\" : Move to the child folder named x (This folder is guaranteed to always exist).\n",
        "\n",
        "You are given a list of strings logs where logs[i] is the operation performed by the user at the ith step.\n",
        "\n",
        "The file system starts in the main folder, then the operations in logs are performed.\n",
        "\n",
        "Return the minimum number of operations needed to go back to the main folder after the change folder operations.\n",
        "\n",
        "Example 1:\n",
        "\n",
        "    Input: logs = [\"d1/\",\"d2/\",\"../\",\"d21/\",\"./\"]\n",
        "    Output: 2\n",
        "    Explanation: Use this change folder operation \"../\" 2 times and go back to the main folder.\n",
        "\n",
        "Example 2:\n",
        "\n",
        "    Input: logs = [\"d1/\",\"d2/\",\"./\",\"d3/\",\"../\",\"d31/\"]\n",
        "    Output: 3\n",
        "\n",
        "Example 3:\n",
        "\n",
        "    Input: logs = [\"d1/\",\"../\",\"../\",\"../\"]\n",
        "    Output: 0\n",
        "\n",
        " \n",
        "\n",
        "Constraints:\n",
        "\n",
        "    1 <= logs.length <= 103\n",
        "    2 <= logs[i].length <= 10\n",
        "    logs[i] contains lowercase English letters, digits, '.', and '/'.\n",
        "    logs[i] follows the format described in the statement.\n",
        "    Folder names consist of lowercase English letters and digits.\n",
        "\n",
        "\n",
        " "
      ]
    },
    {
      "cell_type": "code",
      "metadata": {
        "id": "BgVlptFb5Spy",
        "colab": {
          "base_uri": "https://localhost:8080/"
        },
        "outputId": "f9b7c09f-9d02-43da-d6b5-1f4884d10de7"
      },
      "source": [
        "class Solution:\n",
        "    def minOperations(self, logs: list) -> int:\n",
        "\n",
        "      counter = 0\n",
        "\n",
        "      for i in logs:\n",
        "        if \"../\" in i:\n",
        "          if counter:\n",
        "            counter -= 1\n",
        "        elif \"./\" in i:\n",
        "          continue\n",
        "        else:\n",
        "          counter += 1\n",
        "        #print(counter)\n",
        "\n",
        "      if counter < 0:\n",
        "        return 0\n",
        "      else:\n",
        "        return counter \n",
        "\n",
        "x = Solution()\n",
        "x.minOperations([\"./\",\"wz4/\",\"../\",\"mj2/\",\"../\",\"../\",\"ik0/\",\"il7/\"])"
      ],
      "execution_count": null,
      "outputs": [
        {
          "output_type": "execute_result",
          "data": {
            "text/plain": [
              "2"
            ]
          },
          "metadata": {
            "tags": []
          },
          "execution_count": 13
        }
      ]
    },
    {
      "cell_type": "markdown",
      "metadata": {
        "id": "TYQMG_L0_Os3"
      },
      "source": [
        "## Using Stack"
      ]
    },
    {
      "cell_type": "code",
      "metadata": {
        "colab": {
          "base_uri": "https://localhost:8080/"
        },
        "id": "iYfi1aDS4V6r",
        "outputId": "d54400b9-3939-407c-88ca-63cf63f12c8a"
      },
      "source": [
        "class Solution:\n",
        "    def minOperations(self, logs: list) -> int:\n",
        "\n",
        "      st = list()\n",
        "\n",
        "      for i in logs:\n",
        "        \n",
        "        # If list st is empty and string is \"../\" then,\n",
        "        # its already in the parent folder so continue without incrementing anything\n",
        "        if not st and i == \"../\":\n",
        "          continue\n",
        "\n",
        "        # if list st is not empty that means it not in the parent folder \n",
        "        # and if the string is \"../\" we have to move one folder backwards, \n",
        "        # so pop the last directory\n",
        "        elif i == \"../\":\n",
        "          st.pop()\n",
        "\n",
        "        # do nothing if the string is \"./\"\n",
        "        elif i == \"./\":\n",
        "          continue\n",
        "\n",
        "        # only condition remaining is a directory name,\n",
        "        # so add that to the list\n",
        "        else:\n",
        "          st.append(i)\n",
        "      \n",
        "      return len(st)\n",
        "\n",
        "x = Solution()\n",
        "x.minOperations([\"./\",\"wz4/\",\"../\",\"mj2/\",\"../\",\"hj1\",\"../\",\"ik0/\",\"il7/\",\"../\",\"ij9\"])"
      ],
      "execution_count": null,
      "outputs": [
        {
          "output_type": "execute_result",
          "data": {
            "text/plain": [
              "2"
            ]
          },
          "metadata": {
            "tags": []
          },
          "execution_count": 26
        }
      ]
    },
    {
      "cell_type": "markdown",
      "metadata": {
        "id": "m8WwybPXWu2v"
      },
      "source": [
        "# 747 - Largest Number At Least Twice of Others\n",
        "Easy\n",
        "\n",
        "You are given an integer array nums where the largest integer is unique.\n",
        "\n",
        "Find whether the largest element in the array is at least twice as much as every other number in the array. If it is, return the index of the largest element, otherwise, return -1.\n",
        "\n",
        " \n",
        "\n",
        "Example 1:\n",
        "\n",
        "    Input: nums = [3,6,1,0]\n",
        "    Output: 1\n",
        "    Explanation: 6 is the largest integer and for every other number in the array x,\n",
        "    6 is more than twice as big as x.\n",
        "    The index of value 6 is 1, so we return 1.\n",
        "\n",
        "Example 2:\n",
        "\n",
        "    Input: nums = [1,2,3,4]\n",
        "    Output: -1\n",
        "    Explanation: 4 is not at least as big as twice the value of 3, so we return -1.\n",
        "\n",
        " \n",
        "\n",
        "Constraints:\n",
        "\n",
        "    1 <= nums.length <= 50\n",
        "    0 <= nums[i] <= 100\n",
        "    The largest element in nums is unique.\n",
        "\n"
      ]
    },
    {
      "cell_type": "code",
      "metadata": {
        "id": "jMFKR5NR8sVZ",
        "colab": {
          "base_uri": "https://localhost:8080/"
        },
        "outputId": "688bbb4e-9457-4b5f-e05d-e59d2e3fff0e"
      },
      "source": [
        "class Solution:\n",
        "    def dominantIndex(self, nums: list) -> int:\n",
        "\n",
        "      if len(nums) == 1 and nums[0] == 1:\n",
        "        return 0\n",
        "      \n",
        "      max_ = max(nums)\n",
        "      numsCopy = list(nums)\n",
        "      numsCopy.remove(max_)\n",
        "\n",
        "      for i in numsCopy:\n",
        "        if 2*i <= max_:\n",
        "          continue\n",
        "        else:\n",
        "          return -1\n",
        "          break\n",
        "      \n",
        "      return nums.index(max_)\n",
        "\n",
        "x = Solution()\n",
        "x.dominantIndex([0,2,0,3])"
      ],
      "execution_count": null,
      "outputs": [
        {
          "output_type": "execute_result",
          "data": {
            "text/plain": [
              "-1"
            ]
          },
          "metadata": {
            "tags": []
          },
          "execution_count": 50
        }
      ]
    },
    {
      "cell_type": "markdown",
      "metadata": {
        "id": "zShDd0bO611d"
      },
      "source": [
        "# Bubble Sort\n",
        "\n",
        "## Why do we make n-i-1 iterations in bubble sort algorithm?\n",
        "\n",
        "For comparison purposes in an array, two adjacent cells are needed; in an array of 6 elements, you do 5 comparisons only; in an array of 10 elements, 9 comparisons, and so on\n",
        "\n",
        "![2HiFE.png](data:image/png;base64,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)\n",
        "\n",
        "So for 7 elements, just 6 comparisons are done, hence the general rule of n-1 in the outer for loop\n",
        "\n",
        "About the n-1-i expression, remember that the highest (or lowest, depending on the ordering criterion) value in the bubble sort goes to the last position in the array after the first cycle, so there is no need to compare that value with anything else, therefore the array has to be \"shortened\" 1 cell at a time, and the value of i in the outer loop is the counter responsible for that in the inner loop:\n",
        "\n",
        "5 | 3 | 9 | 20 | elements (n) = 4\n",
        "\n",
        "after first cycle (i = 0), 20 has reached its correct position within the array (using an ascending order), leaving us with an array of 3 elements to do comparisons to; in next cycle, i will be equal to 1, and as n-1 remains the same, we need to substract 1 in that expression to \"shorten\" the array: n-1-i = 4-1-1 = 2, which is the index of the last element in that new array as well as the quantity of comparisons needed.\n",
        "\n"
      ]
    },
    {
      "cell_type": "code",
      "metadata": {
        "colab": {
          "base_uri": "https://localhost:8080/"
        },
        "id": "ry5S_kyh1qTA",
        "outputId": "350b34ea-3b5e-4d7f-d042-131a38fb60f5"
      },
      "source": [
        "def bubbleSort(array_ : list) -> list:\n",
        "  n = len(array_)\n",
        "\n",
        "  # Traverse through all array elements\n",
        "  for i in range(n):\n",
        "\n",
        "    # Last i elements are already in place, so no need to check them\n",
        "    for j in range(n-i-1):\n",
        "      if array_[j] > array_[j+1]:\n",
        "        array_[j],array_[j+1] = array_[j+1],array_[j]\n",
        "  \n",
        "  return array_\n",
        "\n",
        "%time\n",
        "bubbleSort([1,2,3,4,5,6,7,8,9])"
      ],
      "execution_count": null,
      "outputs": [
        {
          "output_type": "stream",
          "text": [
            "CPU times: user 3 µs, sys: 0 ns, total: 3 µs\n",
            "Wall time: 7.39 µs\n"
          ],
          "name": "stdout"
        },
        {
          "output_type": "execute_result",
          "data": {
            "text/plain": [
              "[1, 2, 3, 4, 5, 6, 7, 8, 9]"
            ]
          },
          "metadata": {
            "tags": []
          },
          "execution_count": 22
        }
      ]
    },
    {
      "cell_type": "markdown",
      "metadata": {
        "id": "ly6I--eOPY29"
      },
      "source": [
        "# Insertion Sort\n",
        "\n",
        "### Time Complexity:\n",
        "      O(n) for the best case when array is already sorted\n",
        "\n",
        "      O(n)^2 for the worst case scenario, when array is reverse sorted\n",
        "\n",
        "      O(n)^2 for average case"
      ]
    },
    {
      "cell_type": "code",
      "metadata": {
        "id": "ff7zg7f_12Aw",
        "colab": {
          "base_uri": "https://localhost:8080/"
        },
        "outputId": "f203c230-7efa-4a9a-d615-99e34628f7ef"
      },
      "source": [
        "def insertionSort(array_ : list) -> list:\n",
        "  n = len(array_)\n",
        "  #print(array_)\n",
        "\n",
        "  for i in range(1,n):\n",
        "    value = array_[i]\n",
        "    \n",
        "    hole = i                            #consider this when the value is moved there is a void.\n",
        "\n",
        "    while hole > 0 and array_[hole-1] > value:\n",
        "      array_[hole] = array_[hole-1]\n",
        "      hole = hole - 1\n",
        "    \n",
        "    array_[hole] = value\n",
        "\n",
        "    #print(array_)\n",
        "\n",
        "  return array_\n",
        "\n",
        "%time\n",
        "insertionSort([5,3,7,9,1,4,2,6,8])"
      ],
      "execution_count": 12,
      "outputs": [
        {
          "output_type": "stream",
          "text": [
            "CPU times: user 3 µs, sys: 0 ns, total: 3 µs\n",
            "Wall time: 5.72 µs\n"
          ],
          "name": "stdout"
        },
        {
          "output_type": "execute_result",
          "data": {
            "text/plain": [
              "[1, 2, 3, 4, 5, 6, 7, 8, 9]"
            ]
          },
          "metadata": {
            "tags": []
          },
          "execution_count": 12
        }
      ]
    },
    {
      "cell_type": "code",
      "metadata": {
        "id": "Nr6rixyeQIIl"
      },
      "source": [
        ""
      ],
      "execution_count": null,
      "outputs": []
    }
  ]
}