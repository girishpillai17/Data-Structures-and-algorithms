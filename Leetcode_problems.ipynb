{
  "nbformat": 4,
  "nbformat_minor": 0,
  "metadata": {
    "colab": {
      "name": "Leetcode_problems.ipynb",
      "provenance": [],
      "collapsed_sections": [],
      "authorship_tag": "ABX9TyObOjOAaUOk7xWQ66Jd/7aU",
      "include_colab_link": true
    },
    "kernelspec": {
      "name": "python3",
      "display_name": "Python 3"
    },
    "language_info": {
      "name": "python"
    }
  },
  "cells": [
    {
      "cell_type": "markdown",
      "metadata": {
        "id": "view-in-github",
        "colab_type": "text"
      },
      "source": [
        "<a href=\"https://colab.research.google.com/github/girishpillai17/Data-Structures-and-algorithms/blob/master/Leetcode_problems.ipynb\" target=\"_parent\"><img src=\"https://colab.research.google.com/assets/colab-badge.svg\" alt=\"Open In Colab\"/></a>"
      ]
    },
    {
      "cell_type": "markdown",
      "metadata": {
        "id": "AK0ZWD1pTPn5"
      },
      "source": [
        "# 1213 - Intersection of Three Sorted Arrays \n",
        "\n",
        "Given three integer arrays arr1, arr2 and arr3 sorted in strictly increasing order, return a sorted array of only the integers that appeared in all three arrays.\n",
        "\n",
        " \n",
        "\n",
        "Example 1:\n",
        "\n",
        "Input: arr1 = [1,2,3,4,5], arr2 = [1,2,5,7,9], arr3 = [1,3,4,5,8]\n",
        "Output: [1,5]\n",
        "Explanation: Only 1 and 5 appeared in the three arrays.\n",
        "\n",
        " \n",
        "\n",
        "Constraints:\n",
        "\n",
        "    1 <= arr1.length, arr2.length, arr3.length <= 1000\n",
        "    1 <= arr1[i], arr2[i], arr3[i] <= 2000"
      ]
    },
    {
      "cell_type": "code",
      "metadata": {
        "colab": {
          "base_uri": "https://localhost:8080/"
        },
        "id": "u0acTK6vTBY4",
        "outputId": "cbde098c-1c71-4e0a-8a09-1c15fbe67350"
      },
      "source": [
        "def arraysIntersection(arr1:list, arr2:list, arr3:list) -> list:\n",
        "  list_dif = [i for i in arr1 if i in arr2 and i in arr3]\n",
        "  return sorted(list_dif)\n",
        "\n",
        "arraysIntersection([4,2,8,9,6,7], [7,2,4,8,5,9,60], [5,6,2,4,8])\n",
        "arraysIntersection([1,2,3,4,5], [1,2,5,7,9],[1,3,4,5,8])"
      ],
      "execution_count": null,
      "outputs": [
        {
          "output_type": "execute_result",
          "data": {
            "text/plain": [
              "[1, 5]"
            ]
          },
          "metadata": {
            "tags": []
          },
          "execution_count": 1
        }
      ]
    },
    {
      "cell_type": "markdown",
      "metadata": {
        "id": "TlbIppgtQqIf"
      },
      "source": [
        "# 1134 - Armstrong Number\n",
        "\n",
        "The k-digit number N is an Armstrong number if and only if the k-th power of each digit sums to N.\n",
        "\n",
        "Given a positive integer N, return true if and only if it is an Armstrong number.\n",
        "\n",
        " \n",
        "\n",
        "## Example 1:\n",
        "\n",
        "    Input: 153\n",
        "    Output: true\n",
        "    Explanation: \n",
        "    153 is a 3-digit number, and 153 = 1^3 + 5^3 + 3^3.\n",
        "\n",
        "## Example 2:\n",
        "\n",
        "    Input: 123\n",
        "    Output: false\n",
        "    Explanation: \n",
        "    123 is a 3-digit number, and 123 != 1^3 + 2^3 + 3^3 = 36.\n",
        "\n",
        " \n",
        "\n",
        "Note:\n",
        "\n",
        "    1 <= N <= 10^8\n"
      ]
    },
    {
      "cell_type": "code",
      "metadata": {
        "colab": {
          "base_uri": "https://localhost:8080/"
        },
        "id": "AGe94u9KRAP_",
        "outputId": "e9c3dff7-bf69-4451-a826-860d6b19fa26"
      },
      "source": [
        "def armstrongNumber(num : int) -> bool:\n",
        "  len_ = len(str(num))\n",
        "  num_copy = num           #store the number in a variable to check if the final result mathches with the orginal number\n",
        "  res = 0\n",
        "  for i in range(len_):\n",
        "    # Find the remainder after dividing with 10 and find the exponent with the length of the given number\n",
        "    temp = (num%10)**len_\n",
        "\n",
        "    # Add the number to the result\n",
        "    res += temp\n",
        "\n",
        "    # Remove the last number to find the remaining numbers and repeat the process.\n",
        "    num = num//10\n",
        "  \n",
        "  if res == num_copy:\n",
        "    return True\n",
        "  else:\n",
        "    return False\n",
        "\n",
        "armstrongNumber(370)"
      ],
      "execution_count": null,
      "outputs": [
        {
          "output_type": "execute_result",
          "data": {
            "text/plain": [
              "True"
            ]
          },
          "metadata": {
            "tags": []
          },
          "execution_count": 5
        }
      ]
    },
    {
      "cell_type": "markdown",
      "metadata": {
        "id": "z2OZb4z-WeVx"
      },
      "source": [
        "#1134:1 - Find Armstrong Number till a given range starting from 100 to infinity"
      ]
    },
    {
      "cell_type": "code",
      "metadata": {
        "colab": {
          "base_uri": "https://localhost:8080/"
        },
        "id": "M53tFjhvRYBy",
        "outputId": "f2ba783e-1c6a-448b-960b-66767e975164"
      },
      "source": [
        "def armstrongNumberTill(range_: int):\n",
        "  for i in range(100,range_):\n",
        "    if armstrongNumber(i) == True:\n",
        "      print(i)\n",
        "    else:\n",
        "      pass\n",
        "\n",
        "armstrongNumberTill(1000)"
      ],
      "execution_count": null,
      "outputs": [
        {
          "output_type": "stream",
          "text": [
            "153\n",
            "370\n",
            "371\n",
            "407\n"
          ],
          "name": "stdout"
        }
      ]
    },
    {
      "cell_type": "markdown",
      "metadata": {
        "id": "jP7J4TSOiVI5"
      },
      "source": [
        "# 1491 - Average Salary Excluding the Minimum and Maximum Salary\n",
        "\n",
        "Given an array of unique integers salary where salary[i] is the salary of the employee i.\n",
        "\n",
        "Return the average salary of employees excluding the minimum and maximum salary.\n",
        "\n",
        " \n",
        "\n",
        "Example 1:\n",
        "\n",
        "Input: salary = [4000,3000,1000,2000]\n",
        "Output: 2500.00000\n",
        "\n",
        "Explanation: Minimum salary and maximum salary are 1000 and 4000 respectively.\n",
        "Average salary excluding minimum and maximum salary is (2000+3000)/2= 2500\n",
        "\n",
        "Example 2:\n",
        "\n",
        "Input: salary = [1000,2000,3000]\n",
        "Output: 2000.00000\n",
        "\n",
        "Explanation: Minimum salary and maximum salary are 1000 and 3000 respectively.\n",
        "Average salary excluding minimum and maximum salary is (2000)/1= 2000\n",
        "\n",
        "    Example 3:\n",
        "\n",
        "    Input: salary = [6000,5000,4000,3000,2000,1000]\n",
        "    Output: 3500.00000\n",
        "\n",
        "    Example 4:\n",
        "\n",
        "    Input: salary = [8000,9000,2000,3000,6000,1000]\n",
        "    Output: 4750.00000\n",
        "\n",
        " \n",
        "\n",
        "Constraints:\n",
        "\n",
        "    3 <= salary.length <= 100\n",
        "    10^3 <= salary[i] <= 10^6\n",
        "    salary[i] is unique.\n",
        "    Answers within 10^-5 of the actual value will be accepted as correct.\n"
      ]
    },
    {
      "cell_type": "code",
      "metadata": {
        "colab": {
          "base_uri": "https://localhost:8080/"
        },
        "id": "9c3TnkysiLVd",
        "outputId": "e18e176b-07e5-4bc9-d046-11b21b8c0953"
      },
      "source": [
        "class Solution:\n",
        "    def average(self, salary: list) -> float:\n",
        "      sorted_salary = sorted(salary)\n",
        "      clipped_salary = sorted_salary[1:-1]\n",
        "      res = 0\n",
        "      for i in clipped_salary:\n",
        "        res += i\n",
        "      avg_salary = res/len(clipped_salary)\n",
        "      return avg_salary\n",
        "\n",
        "x = Solution()\n",
        "x.average([8000,9000,2000,3000,6000,1000])"
      ],
      "execution_count": null,
      "outputs": [
        {
          "output_type": "execute_result",
          "data": {
            "text/plain": [
              "4750.0"
            ]
          },
          "metadata": {
            "tags": []
          },
          "execution_count": 29
        }
      ]
    },
    {
      "cell_type": "markdown",
      "metadata": {
        "id": "rYk71mJE0DOd"
      },
      "source": [
        "# 1122 - Relative Sort Array\n",
        "\n",
        "Given two arrays arr1 and arr2, the elements of arr2 are distinct, and all elements in arr2 are also in arr1.\n",
        "\n",
        "Sort the elements of arr1 such that the relative ordering of items in arr1 are the same as in arr2.  Elements that don't appear in arr2 should be placed at the end of arr1 in ascending order.\n",
        "\n",
        " \n",
        "\n",
        "Example 1:\n",
        "\n",
        "Input: \n",
        "\n",
        "    arr1 = [2,3,1,3,2,4,6,7,9,2,19]\n",
        "    arr2 = [2,1,4,3,9,6]\n",
        "\n",
        "Output: \n",
        "\n",
        "    \n",
        "    [2,2,2,1,4,3,3,9,6,7,19]\n",
        "\n",
        " \n",
        "\n",
        "Constraints:\n",
        "\n",
        "    1 <= arr1.length, arr2.length <= 1000\n",
        "    0 <= arr1[i], arr2[i] <= 1000\n",
        "    All the elements of arr2 are distinct.\n",
        "    Each arr2[i] is in arr1.\n",
        "\n",
        "\n"
      ]
    },
    {
      "cell_type": "markdown",
      "metadata": {
        "id": "LqNQUv4ycFoZ"
      },
      "source": [
        "## Logic 1 : Using array (Brute Force)\n",
        "\n",
        "    let arr1 = [2,3,1,3,2,4,6,7,9,2,19], arr2 = [2,1,4,3,9,6]\n",
        "    list 1 = []\n",
        "    loop through arr2\n",
        "        check if arr2[i] present in arr1\n",
        "        push in list 1 \n",
        "        delete i from arr1 if found\n",
        "    arr1 will contain only numbers that are not in arr2\n",
        "    sort arr1 in ascending order and append it to list."
      ]
    },
    {
      "cell_type": "code",
      "metadata": {
        "colab": {
          "base_uri": "https://localhost:8080/"
        },
        "id": "o9rJGo-ymf7c",
        "outputId": "66e5d382-ede8-49e6-b521-35ff83be33ae"
      },
      "source": [
        "import itertools\n",
        "class Solution:\n",
        "    def relativeSortArray(self, arr1: list, arr2: list) -> list:\n",
        "      res_list = []\n",
        "      for i in arr2:\n",
        "        if i in arr1:\n",
        "          res_list.append([j for j in arr1 if j == i])\n",
        "          arr1 = [j for j in arr1 if j != i]\n",
        "        \n",
        "      res_list = list(itertools.chain(*res_list))\n",
        "      arr1_sorted = sorted(arr1)\n",
        "      \n",
        "      return res_list + arr1_sorted\n",
        "\n",
        "x = Solution()\n",
        "x.relativeSortArray([2,3,1,3,2,4,6,7,9,2,19],[2,1,4,3,9,6])"
      ],
      "execution_count": null,
      "outputs": [
        {
          "output_type": "execute_result",
          "data": {
            "text/plain": [
              "[2, 2, 2, 1, 4, 3, 3, 9, 6, 7, 19]"
            ]
          },
          "metadata": {
            "tags": []
          },
          "execution_count": 56
        }
      ]
    },
    {
      "cell_type": "markdown",
      "metadata": {
        "id": "ECJWD2g_boqk"
      },
      "source": [
        "## Logic 2 : Using dict\n",
        "\n",
        "\n",
        "    use dict to create corresponeding key in arr2 (the order of key in dict is extactly the same order in arr2)\n",
        "    count elements in arr1 as the values in dict\n",
        "    extract key and value from dict\n",
        "    sort the rest nums->List[int] not in dict and append it to ans->List[int]\n"
      ]
    },
    {
      "cell_type": "code",
      "metadata": {
        "colab": {
          "base_uri": "https://localhost:8080/"
        },
        "id": "OCK8Qhmv21aS",
        "outputId": "940f524c-83a5-4f6c-d7d2-50fa0263dbbd"
      },
      "source": [
        "class Solution:\n",
        "    def relativeSortArray(self, arr1, arr2):\n",
        "\n",
        "      dict_ = {}\n",
        "      res, num_not_in_arr2 = [],[]\n",
        "\n",
        "      for i in arr2:\n",
        "        dict_[i] = 0\n",
        "      \n",
        "      #print(dict_)\n",
        "\n",
        "      for val in arr1:\n",
        "        if val not in dict_:\n",
        "          num_not_in_arr2.append(val)\n",
        "        else:\n",
        "          dict_[val] += 1\n",
        "\n",
        "      #print(dict_)\n",
        "\n",
        "      for key, val in dict_.items():\n",
        "        res.extend([key for i in range(val)])\n",
        " \n",
        "      res.extend(sorted(num_not_in_arr2))\n",
        "      \n",
        "      return res\n",
        "\n",
        "x = Solution()\n",
        "x.relativeSortArray([2,3,1,3,2,4,6,7,9,2,19],[2,1,4,3,9,6])\n"
      ],
      "execution_count": null,
      "outputs": [
        {
          "output_type": "stream",
          "text": [
            "{2: 3, 1: 1, 4: 1, 3: 2, 9: 1, 6: 1}\n"
          ],
          "name": "stdout"
        },
        {
          "output_type": "execute_result",
          "data": {
            "text/plain": [
              "[2, 2, 2, 1, 4, 3, 3, 9, 6, 7, 19]"
            ]
          },
          "metadata": {
            "tags": []
          },
          "execution_count": 29
        }
      ]
    },
    {
      "cell_type": "markdown",
      "metadata": {
        "id": "q3wh0il6dsoA"
      },
      "source": [
        "#509 - Fibonacci Number\n",
        "\n",
        "The Fibonacci numbers, commonly denoted F(n) form a sequence, called the Fibonacci sequence, such that each number is the sum of the two preceding ones, starting from 0 and 1. That is,\n",
        "\n",
        "    F(0) = 0, F(1) = 1\n",
        "    F(n) = F(n - 1) + F(n - 2), for n > 1.\n",
        "\n",
        "Given n, calculate F(n).\n",
        "\n",
        "Example 1:\n",
        "\n",
        "    Input: n = 2\n",
        "    Output: 1\n",
        "    Explanation: F(2) = F(1) + F(0) = 1 + 0 = 1.\n",
        "\n",
        "Example 2:\n",
        "\n",
        "    Input: n = 3\n",
        "    Output: 2\n",
        "    Explanation: F(3) = F(2) + F(1) = 1 + 1 = 2.\n",
        "\n",
        "Example 3:\n",
        "\n",
        "    Input: n = 4\n",
        "    Output: 3\n",
        "    Explanation: F(4) = F(3) + F(2) = 2 + 1 = 3.\n",
        "\n",
        "Constraints:\n",
        "\n",
        "    0 <= n <= 30\n"
      ]
    },
    {
      "cell_type": "markdown",
      "metadata": {
        "id": "C1KVwm-BfJ2i"
      },
      "source": [
        "# Logic 1 - Recursion"
      ]
    },
    {
      "cell_type": "code",
      "metadata": {
        "colab": {
          "base_uri": "https://localhost:8080/"
        },
        "id": "-Z-GoJIvebrA",
        "outputId": "67d65bca-faca-4a69-9259-1ac0411ce274"
      },
      "source": [
        "class Solution:\n",
        "    def fib(self, n: int) -> int:\n",
        "        if n == 1 or n == 0:\n",
        "            return n\n",
        "\n",
        "        else:\n",
        "            return (self.fib(n-1) + self.fib(n-2))\n",
        "\n",
        "x = Solution()\n",
        "x.fib(3)"
      ],
      "execution_count": null,
      "outputs": [
        {
          "output_type": "execute_result",
          "data": {
            "text/plain": [
              "2"
            ]
          },
          "metadata": {
            "tags": []
          },
          "execution_count": 33
        }
      ]
    },
    {
      "cell_type": "markdown",
      "metadata": {
        "id": "JgECj42rfWVB"
      },
      "source": [
        "# Logic 2 - Normal"
      ]
    },
    {
      "cell_type": "code",
      "metadata": {
        "colab": {
          "base_uri": "https://localhost:8080/"
        },
        "id": "yavfsjyJehWR",
        "outputId": "c81a1f61-deaa-438f-f135-1abf265496a9"
      },
      "source": [
        "class Solution:\n",
        "    def fib(self, n: int) -> int:\n",
        "      if n == 1 or n == 0:\n",
        "        return n\n",
        "\n",
        "      else:\n",
        "        res = [0,1]\n",
        "        for i in range(2,n):\n",
        "          res.append(res[i-1] + res[i-2])\n",
        "      \n",
        "        return res[n-1] + res[n-2]\n",
        "\n",
        "x = Solution()\n",
        "x.fib(10)"
      ],
      "execution_count": null,
      "outputs": [
        {
          "output_type": "execute_result",
          "data": {
            "text/plain": [
              "55"
            ]
          },
          "metadata": {
            "tags": []
          },
          "execution_count": 55
        }
      ]
    },
    {
      "cell_type": "markdown",
      "metadata": {
        "id": "hfxOwI1bmtBA"
      },
      "source": [
        "# 26 - Remove Duplicates from Sorted Array\n",
        "\n",
        "Given a sorted array nums, remove the duplicates in-place such that each element appears only once and returns the new length.\n",
        "\n",
        "Do not allocate extra space for another array, you must do this by modifying the input array in-place with O(1) extra memory.\n",
        "\n",
        "Clarification:\n",
        "\n",
        "    Confused why the returned value is an integer but your answer is an array?\n",
        "\n",
        "    Note that the input array is passed in by reference, which means a modification to the input array will be known to the caller as well.\n",
        "\n",
        "Internally you can think of this:\n",
        "\n",
        "    nums is passed in by reference. (i.e., without making a copy)\n",
        "    int len = removeDuplicates(nums);\n",
        "\n",
        "    any modification to nums in your function would be known by the caller.\n",
        "    using the length returned by your function, it prints the first len elements.\n",
        "\n",
        "      for (int i = 0; i < len; i++) {\n",
        "          print(nums[i]);\n",
        "      }\n",
        "\n",
        " \n",
        "\n",
        "Example 1:\n",
        "\n",
        "    Input: nums = [1,1,2]\n",
        "    Output: 2, nums = [1,2]\n",
        "    Explanation: Your function should return length = 2, with the first two elements of nums \n",
        "    being 1 and 2 respectively. It doesn't matter what you leave beyond the returned length.\n",
        "\n",
        "Example 2:\n",
        "\n",
        "    Input: nums = [0,0,1,1,1,2,2,3,3,4]\n",
        "    Output: 5, nums = [0,1,2,3,4]\n",
        "    Explanation: Your function should return length = 5, with the first five elements of nums \n",
        "    being modified to 0, 1, 2, 3, and 4 respectively. \n",
        "    It doesn't matter what values are set beyond the returned length.\n",
        "\n",
        " \n",
        "\n",
        "Constraints:\n",
        "\n",
        "    0 <= nums.length <= 3 * 104\n",
        "    -104 <= nums[i] <= 104\n",
        "    nums is sorted in ascending order.\n",
        "\n"
      ]
    },
    {
      "cell_type": "code",
      "metadata": {
        "colab": {
          "base_uri": "https://localhost:8080/"
        },
        "id": "YTRgqonvigu6",
        "outputId": "7b1d6172-4f78-4228-f346-8c16ed454330"
      },
      "source": [
        "class Solution:\n",
        "    def removeDuplicates(self, nums: list) -> int:\n",
        "\n",
        "      length = len(nums)\n",
        "        \n",
        "      # If list is empty or has got just 1 element, no need to do anything, just return the same length\n",
        "      if length == 0 or length == 1:\n",
        "        return(length)\n",
        "\n",
        "\n",
        "      nums.extend([0])\n",
        "      \n",
        "      temp = []\n",
        "      for i in range(0,(len(nums)-1)):\n",
        "        if nums[i] != nums[i+1]:\n",
        "          temp.append(nums[i])          \n",
        "\n",
        "      print(len(temp))\n",
        "      return temp \n",
        "      \n",
        "\n",
        "x = Solution()\n",
        "x.removeDuplicates([0,0,1,1,1,2,2,3,3,4])\n"
      ],
      "execution_count": null,
      "outputs": [
        {
          "output_type": "stream",
          "text": [
            "5\n"
          ],
          "name": "stdout"
        },
        {
          "output_type": "execute_result",
          "data": {
            "text/plain": [
              "[0, 1, 2, 3, 4]"
            ]
          },
          "metadata": {
            "tags": []
          },
          "execution_count": 102
        }
      ]
    },
    {
      "cell_type": "code",
      "metadata": {
        "id": "CRYypWk1v_v_"
      },
      "source": [
        ""
      ],
      "execution_count": null,
      "outputs": []
    }
  ]
}